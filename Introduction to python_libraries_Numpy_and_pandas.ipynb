{
 "cells": [
  {
   "cell_type": "code",
   "execution_count": 2,
   "id": "5d3737bc",
   "metadata": {},
   "outputs": [],
   "source": [
    "import pandas as pd\n"
   ]
  },
  {
   "cell_type": "code",
   "execution_count": 3,
   "id": "f41cc2d7",
   "metadata": {},
   "outputs": [],
   "source": [
    "import numpy as np"
   ]
  },
  {
   "cell_type": "code",
   "execution_count": null,
   "id": "3c642208",
   "metadata": {},
   "outputs": [],
   "source": []
  },
  {
   "cell_type": "code",
   "execution_count": null,
   "id": "4adfcbeb",
   "metadata": {},
   "outputs": [],
   "source": [
    "# creating a 2D arrray\n"
   ]
  },
  {
   "cell_type": "code",
   "execution_count": 94,
   "id": "d70ba8b9",
   "metadata": {},
   "outputs": [],
   "source": [
    "z = np.array([[2,3,4], [5,6,8]])"
   ]
  },
  {
   "cell_type": "code",
   "execution_count": 13,
   "id": "44017eb2",
   "metadata": {},
   "outputs": [
    {
     "name": "stdout",
     "output_type": "stream",
     "text": [
      "[[2 3 5]\n",
      " [4 7 8]]\n"
     ]
    }
   ],
   "source": [
    "print(z)"
   ]
  },
  {
   "cell_type": "code",
   "execution_count": 16,
   "id": "d6241c45",
   "metadata": {},
   "outputs": [],
   "source": [
    "s = np.array([[5,6,7],[5,7,9]])"
   ]
  },
  {
   "cell_type": "markdown",
   "id": "0e3d2ba5",
   "metadata": {},
   "source": [
    "# numpy functions\n"
   ]
  },
  {
   "cell_type": "code",
   "execution_count": null,
   "id": "2616ad59",
   "metadata": {},
   "outputs": [],
   "source": [
    "arange\n",
    "reshape\n",
    "zeros\n",
    "ones\n",
    "full\n",
    "linespace\n",
    "random\n"
   ]
  },
  {
   "cell_type": "code",
   "execution_count": 19,
   "id": "f3fb079e",
   "metadata": {},
   "outputs": [
    {
     "name": "stdout",
     "output_type": "stream",
     "text": [
      "[0 1 2 3 4 5 6 7 8 9]\n"
     ]
    }
   ],
   "source": [
    "#arrange\n",
    "A10 = np.arange(10)\n",
    "A10\n",
    "print(A10)"
   ]
  },
  {
   "cell_type": "code",
   "execution_count": 27,
   "id": "79bd79c5",
   "metadata": {},
   "outputs": [
    {
     "name": "stdout",
     "output_type": "stream",
     "text": [
      "[[0 1 2 3 4]\n",
      " [5 6 7 8 9]] \n",
      " [[0]\n",
      " [1]\n",
      " [2]\n",
      " [3]\n",
      " [4]\n",
      " [5]\n",
      " [6]\n",
      " [7]\n",
      " [8]\n",
      " [9]]\n"
     ]
    }
   ],
   "source": [
    "B10 = A10.reshape(-1,1)\n",
    "print(A10,'\\n', B10)"
   ]
  },
  {
   "cell_type": "code",
   "execution_count": 29,
   "id": "2de07368",
   "metadata": {},
   "outputs": [
    {
     "name": "stdout",
     "output_type": "stream",
     "text": [
      "The shape of 1d array x = (10, 1)\n"
     ]
    }
   ],
   "source": [
    "print('The shape of 1d array x =', B10.shape)"
   ]
  },
  {
   "cell_type": "code",
   "execution_count": 26,
   "id": "880e80c8",
   "metadata": {},
   "outputs": [
    {
     "data": {
      "text/plain": [
       "array([[0, 1, 2, 3, 4],\n",
       "       [5, 6, 7, 8, 9]])"
      ]
     },
     "execution_count": 26,
     "metadata": {},
     "output_type": "execute_result"
    }
   ],
   "source": [
    "A10 = B10.reshape(2,5)\n",
    "A10"
   ]
  },
  {
   "cell_type": "code",
   "execution_count": 32,
   "id": "af34e0e7",
   "metadata": {},
   "outputs": [
    {
     "data": {
      "text/plain": [
       "array([[0., 0., 0.],\n",
       "       [0., 0., 0.]])"
      ]
     },
     "execution_count": 32,
     "metadata": {},
     "output_type": "execute_result"
    }
   ],
   "source": [
    "np_zeros = np.zeros((2,3))\n",
    "np_zeros"
   ]
  },
  {
   "cell_type": "code",
   "execution_count": 36,
   "id": "cae2b7a1",
   "metadata": {},
   "outputs": [
    {
     "data": {
      "text/plain": [
       "array([[1., 1., 1.],\n",
       "       [1., 1., 1.]])"
      ]
     },
     "execution_count": 36,
     "metadata": {},
     "output_type": "execute_result"
    }
   ],
   "source": [
    "np_ones = np.ones((2,3))\n",
    "np_ones"
   ]
  },
  {
   "cell_type": "code",
   "execution_count": 39,
   "id": "0d9c32c4",
   "metadata": {},
   "outputs": [
    {
     "data": {
      "text/plain": [
       "array([[4, 4, 4],\n",
       "       [4, 4, 4]])"
      ]
     },
     "execution_count": 39,
     "metadata": {},
     "output_type": "execute_result"
    }
   ],
   "source": [
    "np_full = np.full((2,3),4)\n",
    "np_full"
   ]
  },
  {
   "cell_type": "code",
   "execution_count": 47,
   "id": "dd3bec12",
   "metadata": {},
   "outputs": [
    {
     "data": {
      "text/plain": [
       "array([[1., 0., 0., 0., 0., 0.],\n",
       "       [0., 1., 0., 0., 0., 0.],\n",
       "       [0., 0., 1., 0., 0., 0.],\n",
       "       [0., 0., 0., 1., 0., 0.],\n",
       "       [0., 0., 0., 0., 1., 0.],\n",
       "       [0., 0., 0., 0., 0., 1.]])"
      ]
     },
     "execution_count": 47,
     "metadata": {},
     "output_type": "execute_result"
    }
   ],
   "source": [
    "np_eye = np.eye(6,6)\n",
    "np_eye"
   ]
  },
  {
   "cell_type": "code",
   "execution_count": 49,
   "id": "5bd71cdb",
   "metadata": {},
   "outputs": [
    {
     "data": {
      "text/plain": [
       "array([ 0.,  2.,  4.,  6.,  8., 10.])"
      ]
     },
     "execution_count": 49,
     "metadata": {},
     "output_type": "execute_result"
    }
   ],
   "source": [
    "np_linspace = np.linspace(0,10, num=6)\n",
    "np_linspace"
   ]
  },
  {
   "cell_type": "code",
   "execution_count": 77,
   "id": "d5f57d68",
   "metadata": {},
   "outputs": [
    {
     "data": {
      "text/plain": [
       "array([[2, 4, 8],\n",
       "       [8, 2, 6],\n",
       "       [9, 9, 3],\n",
       "       [9, 6, 8],\n",
       "       [3, 2, 0]])"
      ]
     },
     "execution_count": 77,
     "metadata": {},
     "output_type": "execute_result"
    }
   ],
   "source": [
    "#create an array filled with random values between 0 and 1\n",
    "np_rand1 = np.random.random_sample((2,3))\n",
    "np_rand2 = np.random.rand(2,3)\n",
    "np_rand3 = np.random.randint(10, size=(5,3))\n",
    "np.save('array_data.npy', np_rand3)\n",
    "np_rand1\n",
    "np_rand2\n",
    "np_rand3\n"
   ]
  },
  {
   "cell_type": "code",
   "execution_count": 78,
   "id": "cf5e4577",
   "metadata": {},
   "outputs": [
    {
     "data": {
      "text/plain": [
       "array([[0.00745499, 0.25672147, 0.06508167],\n",
       "       [0.22546874, 0.7552356 , 0.13671968]])"
      ]
     },
     "execution_count": 78,
     "metadata": {},
     "output_type": "execute_result"
    }
   ],
   "source": [
    "np_rand2"
   ]
  },
  {
   "cell_type": "code",
   "execution_count": 79,
   "id": "49695db9",
   "metadata": {},
   "outputs": [
    {
     "data": {
      "text/plain": [
       "array([[2, 4, 8],\n",
       "       [8, 2, 6],\n",
       "       [9, 9, 3],\n",
       "       [9, 6, 8],\n",
       "       [3, 2, 0]])"
      ]
     },
     "execution_count": 79,
     "metadata": {},
     "output_type": "execute_result"
    }
   ],
   "source": [
    "np_rand3"
   ]
  },
  {
   "cell_type": "markdown",
   "id": "608511e2",
   "metadata": {},
   "source": [
    "# Asccessing element of numpy array"
   ]
  },
  {
   "cell_type": "code",
   "execution_count": 81,
   "id": "e01cdfd7",
   "metadata": {},
   "outputs": [],
   "source": [
    "#To access an element in a two dimensional array you need to specify an index for both the row and the column"
   ]
  },
  {
   "cell_type": "code",
   "execution_count": 85,
   "id": "f503dd83",
   "metadata": {},
   "outputs": [
    {
     "name": "stdout",
     "output_type": "stream",
     "text": [
      "[[2 3 5]\n",
      " [4 7 8]]\n"
     ]
    },
    {
     "data": {
      "text/plain": [
       "[[1, 2], [3, 4]]"
      ]
     },
     "execution_count": 85,
     "metadata": {},
     "output_type": "execute_result"
    }
   ],
   "source": [
    "print(z)\n",
    "z[1,0]\n",
    "[[1,2],[3,4]]"
   ]
  },
  {
   "cell_type": "code",
   "execution_count": 88,
   "id": "de8a5998",
   "metadata": {},
   "outputs": [
    {
     "data": {
      "text/plain": [
       "array([[1, 2],\n",
       "       [3, 4]])"
      ]
     },
     "execution_count": 88,
     "metadata": {},
     "output_type": "execute_result"
    }
   ],
   "source": [
    "p = np.array([[1,2],[3,4]])\n",
    "p"
   ]
  },
  {
   "cell_type": "code",
   "execution_count": 95,
   "id": "18512342",
   "metadata": {},
   "outputs": [
    {
     "data": {
      "text/plain": [
       "5"
      ]
     },
     "execution_count": 95,
     "metadata": {},
     "output_type": "execute_result"
    }
   ],
   "source": [
    "p = z[1][0]\n",
    "p"
   ]
  },
  {
   "cell_type": "code",
   "execution_count": 96,
   "id": "8df882a1",
   "metadata": {},
   "outputs": [
    {
     "data": {
      "text/plain": [
       "array([2])"
      ]
     },
     "execution_count": 96,
     "metadata": {},
     "output_type": "execute_result"
    }
   ],
   "source": [
    "p =(z[0:1, 0])\n",
    "p"
   ]
  },
  {
   "cell_type": "code",
   "execution_count": 100,
   "id": "0c8b8b11",
   "metadata": {},
   "outputs": [
    {
     "data": {
      "text/plain": [
       "array([2])"
      ]
     },
     "execution_count": 100,
     "metadata": {},
     "output_type": "execute_result"
    }
   ],
   "source": [
    "#Transpose\n",
    "p.T"
   ]
  },
  {
   "cell_type": "code",
   "execution_count": null,
   "id": "4ed4b32c",
   "metadata": {},
   "outputs": [],
   "source": []
  }
 ],
 "metadata": {
  "kernelspec": {
   "display_name": "Python 3 (ipykernel)",
   "language": "python",
   "name": "python3"
  },
  "language_info": {
   "codemirror_mode": {
    "name": "ipython",
    "version": 3
   },
   "file_extension": ".py",
   "mimetype": "text/x-python",
   "name": "python",
   "nbconvert_exporter": "python",
   "pygments_lexer": "ipython3",
   "version": "3.11.5"
  }
 },
 "nbformat": 4,
 "nbformat_minor": 5
}
